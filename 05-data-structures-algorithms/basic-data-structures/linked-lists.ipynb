{
 "cells": [
  {
   "cell_type": "markdown",
   "metadata": {},
   "source": [
    "# Linked Lists"
   ]
  },
  {
   "cell_type": "markdown",
   "metadata": {},
   "source": [
    "## Overview\n",
    "Linked lists are a type of data structure that consists of a sequence of elements, where each element points to the next one. They are useful for dynamic memory allocation and can be easily modified by adding or removing elements."
   ]
  },
  {
   "cell_type": "markdown",
   "metadata": {},
   "source": [
    "## Key Concepts\n",
    "- **Node**: The basic unit of a linked list, containing data and a reference to the next node.\n",
    "- **Head**: The first node in the linked list.\n",
    "- **Tail**: The last node in the linked list.\n",
    "- **Singly Linked List**: Each node points to the next node.\n",
    "- **Doubly Linked List**: Each node points to both the next and previous nodes."
   ]
  },
  {
   "cell_type": "markdown",
   "metadata": {},
   "source": [
    "## Implementation Details\n",
    "Here's a simple implementation of a singly linked list in Python:\n",
    "\n",
    "```python\n",
    "class Node:\n",
    "    def __init__(self, data):\n",
    "        self.data = data\n",
    "        self.next = None\n",
    "\n",
    "class LinkedList:\n",
    "    def __init__(self):\n",
    "        self.head = None\n",
    "\n",
    "    def append(self, data):\n",
    "        new_node = Node(data)\n",
    "        if not self.head:\n",
    "            self.head = new_node\n",
    "            return\n",
    "        last = self.head\n",
    "        while last.next:\n",
    "            last = last.next\n",
    "        last.next = new_node\n",
    "\n",
    "    def display(self):\n",
    "        current = self.head\n",
    "        while current:\n",
    "            print(current.data, end = ' -> ')\n",
    "            current = current.next\n",
    "        print('None')\n",
    "```\n",
    "\n",
    "## Best Practices\n",
    "- Use linked lists when you need to frequently add or remove elements from the middle of the list.\n",
    "- Consider using a doubly linked list if you need to traverse the list in both directions.\n",
    "- Keep track of the head and tail nodes to optimize insertion and deletion operations."
   ]
  },
  {
   "cell_type": "markdown",
   "metadata": {},
   "source": [
    "## Common Pitfalls\n",
    "- **Memory Overhead**: Each node requires additional memory for the next (and previous) pointer.\n",
    "- **Traversal Time**: Accessing elements by index is slower compared to arrays because you need to traverse the list.\n",
    "- **Dangling Pointers**: Be cautious of pointers that reference deleted nodes."
   ]
  },
  {
   "cell_type": "markdown",
   "metadata": {},
   "source": [
    "## Advanced Topics\n",
    "- **Circular Linked List**: A linked list where the last node points back to the first node.\n",
    "- **Doubly Circular Linked List**: Combines features of doubly linked lists and circular linked lists.\n",
    "- **Skip Lists**: A probabilistic data structure that allows for fast search within an ordered sequence of elements."
   ]
  },
  {
   "cell_type": "markdown",
   "metadata": {},
   "source": [
    "## Interview Questions\n",
    "\n",
    "1. **Question**: How do you reverse a singly linked list?\n",
    "   **Answer**: Iterate through the list, reversing the pointers as you go.\n",
    "   ```python\n",
    "   def reverse(self):\n",
    "        prev = None\n",
    "        current = self.head\n",
    "        while current:\n",
    "            next_node = current.next\n",
    "            current.next = prev\n",
    "            prev = current\n",
    "            current = next_node\n",
    "        self.head = prev\n",
    "   ```\n",
    "\n",
    "2. **Question**: How do you detect a cycle in a linked list?\n",
    "   **Answer**: Use the Floyd’s Cycle-Finding Algorithm (Tortoise and Hare).\n",
    "   ```python\n",
    "   def has_cycle(self):\n",
    "        slow = self.head\n",
    "        fast = self.head\n",
    "        while fast and fast.next:\n",
    "            slow = slow.next\n",
    "            fast = fast.next.next\n",
    "            if slow == fast:\n",
    "                return True\n",
    "        return False\n",
    "   ```\n",
    "\n",
    "3. **Question**: How do you find the middle element of a linked list?\n",
    "   **Answer**: Use two pointers, one moving twice as fast as the other.\n",
    "   ```python\n",
    "   def find_middle(self):\n",
    "        slow = self.head\n",
    "        fast = self.head\n",
    "        while fast and fast.next:\n",
    "            slow = slow.next\n",
    "            fast = fast.next.next\n",
    "        return slow.data\n",
    "   ```"
   ]
  },
  {
   "cell_type": "markdown",
   "metadata": {},
   "source": [
    "## Real-world Applications\n",
    "- **Implementing Stacks and Queues**: Linked lists can be used to implement stacks and queues efficiently.\n",
    "- **Dynamic Memory Allocation**: Useful in systems where memory needs to be allocated and deallocated dynamically.\n",
    "- **Undo Mechanism in Text Editors**: Linked lists can be used to implement an undo mechanism by storing the previous states."
   ]
  },
  {
   "cell_type": "markdown",
   "metadata": {},
   "source": [
    "## Further Reading\n",
    "- [Linked Lists on GeeksforGeeks](https://www.geeksforgeeks.org/linked-list/)\n",
    "- [Linked Lists in Python Documentation](https://docs.python.org/3/tutorial/datastructures.html#more-on-lists)"
   ]
  }
 ],
 "metadata": {
  "kernelspec": {
   "display_name": "conda_python3",
   "language": "python",
   "name": "conda_python3"
  },
  "language_info": {
   "codemirror_mode": {
    "name": "ipython",
    "version": 3
   },
   "file_extension": ".py",
   "mimetype": "text/x-python",
   "name": "python",
   "nbconvert_exporter": "python",
   "pygments_lexer": "ipython3",
   "version": "3.10.15"
  }
 },
 "nbformat": 4,
 "nbformat_minor": 4
}
