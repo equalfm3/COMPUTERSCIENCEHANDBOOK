{
 "cells": [
  {
   "cell_type": "markdown",
   "metadata": {},
   "source": [
    "# Hash Tables"
   ]
  },
  {
   "cell_type": "markdown",
   "metadata": {},
   "source": [
    "## Overview\n",
    "Hash tables, also known as hash maps, are data structures that provide fast access to elements using a key. They are widely used in various applications due to their efficiency in search, insert, and delete operations."
   ]
  },
  {
   "cell_type": "markdown",
   "metadata": {},
   "source": [
    "## Key Concepts\n",
    "- **Key-Value Pair**: Each element in a hash table is a key-value pair.\n",
    "- **Hash Function**: A function that maps keys to array indices.\n",
    "- **Buckets**: Array slots where elements are stored.\n",
    "- **Collision**: When two keys hash to the same index.\n",
    "- **Load Factor**: The ratio of the number of elements to the number of buckets."
   ]
  },
  {
   "cell_type": "markdown",
   "metadata": {},
   "source": [
    "## Theoretical Foundation\n",
    "A hash table uses a hash function to compute an index into an array of buckets or slots, from which the desired value can be found. Ideally, the hash function will assign each key to a unique bucket, but collisions are inevitable and must be handled."
   ]
  },
  {
   "cell_type": "markdown",
   "metadata": {},
   "source": [
    "## Implementation Details\n",
    "Here's a simple implementation of a hash table in Python:\n",
    "\n",
    "```python\n",
    "class HashTable:\n",
    "    def __init__(self, size):\n",
    "        self.size = size\n",
    "        self.table = [[] for _ in range(size)]\n",
    "\n",
    "    def hash_function(self, key):\n",
    "        return hash(key) % self.size\n",
    "\n",
    "    def insert(self, key, value):\n",
    "        index = self.hash_function(key)\n",
    "        bucket = self.table[index]\n",
    "        for i, (k, v) in enumerate(bucket):\n",
    "            if k == key:\n",
    "                bucket[i] = (key, value)\n",
    "                return\n",
    "        bucket.append((key, value))\n",
    "\n",
    "    def get(self, key):\n",
    "        index = self.hash_function(key)\n",
    "        bucket = self.table[index]\n",
    "        for k, v in bucket:\n",
    "            if k == key:\n",
    "                return v\n",
    "        return None\n",
    "\n",
    "    def remove(self, key):\n",
    "        index = self.hash_function(key)\n",
    "        bucket = self.table[index]\n",
    "        for i, (k, v) in enumerate(bucket):\n",
    "            if k == key:\n",
    "                del bucket[i]\n",
    "                return\n",
    "```"
   ]
  },
  {
   "cell_type": "markdown",
   "metadata": {},
   "source": [
    "## Best Practices\n",
    "- Choose a good hash function to minimize collisions.\n",
    "- Use a prime number for the size of the hash table to improve distribution.\n",
    "- Resize the hash table when the load factor exceeds a certain threshold."
   ]
  },
  {
   "cell_type": "markdown",
   "metadata": {},
   "source": [
    "## Common Pitfalls\n",
    "- **Poor Hash Function**: Can lead to many collisions and degrade performance.\n",
    "- **High Load Factor**: Can cause the hash table to become inefficient.\n",
    "- **Resizing**: Frequent resizing can be costly."
   ]
  },
  {
   "cell_type": "markdown",
   "metadata": {},
   "source": [
    "## Advanced Topics\n",
    "- **Perfect Hashing**: A hash function that causes no collisions.\n",
    "- **Dynamic Resizing**: Adjusting the size of the hash table as elements are added or removed.\n",
    "- **Consistent Hashing**: A technique used in distributed systems to evenly distribute data across nodes."
   ]
  },
  {
   "cell_type": "markdown",
   "metadata": {},
   "source": [
    "## Interview Questions\n",
    "\n",
    "1. **Question**: How do you handle collisions in a hash table?\n",
    "   **Answer**: Common methods include chaining (using linked lists) and open addressing (probing).\n",
    "\n",
    "2. **Question**: What is the average time complexity for search, insert, and delete operations in a hash table?\n",
    "   **Answer**: The average time complexity for these operations is O(1).\n",
    "\n",
    "3. **Question**: How do you implement a hash table with chaining?\n",
    "   **Answer**: Use an array of linked lists where each list stores elements that hash to the same index.\n",
    "   ```python\n",
    "   class HashTable:\n",
    "       def __init__(self, size):\n",
    "           self.size = size\n",
    "           self.table = [[] for _ in range(size)]\n",
    "\n",
    "       def hash_function(self, key):\n",
    "           return hash(key) % self.size\n",
    "\n",
    "       def insert(self, key, value):\n",
    "           index = self.hash_function(key)\n",
    "           bucket = self.table[index]\n",
    "           for i, (k, v) in enumerate(bucket):\n",
    "               if k == key:\n",
    "                   bucket[i] = (key, value)\n",
    "                   return\n",
    "           bucket.append((key, value))\n",
    "\n",
    "       def get(self, key):\n",
    "           index = self.hash_function(key)\n",
    "           bucket = self.table[index]\n",
    "           for k, v in bucket:\n",
    "               if k == key:\n",
    "                   return v\n",
    "           return None\n",
    "\n",
    "       def remove(self, key):\n",
    "           index = self.hash_function(key)\n",
    "           bucket = self.table[index]\n",
    "           for i, (k, v) in enumerate(bucket):\n",
    "               if k == key:\n",
    "                   del bucket[i]\n",
    "                   return\n",
    "   ```\n",
    "\n",
    "4. **Question**: How do you determine the appropriate size for a hash table?\n",
    "   **Answer**: The size should be a prime number and large enough to keep the load factor low.\n",
    "\n",
    "5. **Question**: What are the advantages of using a hash table over a binary search tree?\n",
    "   **Answer**: Hash tables offer average O(1) time complexity for search, insert, and delete operations, whereas binary search trees offer O(log n) time complexity."
   ]
  },
  {
   "cell_type": "markdown",
   "metadata": {},
   "source": [
    "## Real-world Applications\n",
    "- **Database Indexing**: Hash tables are used to implement indexing in databases.\n",
    "- **Caching**: Hash tables are used in caching mechanisms to store key-value pairs.\n",
    "- **Symbol Tables**: Used in compilers to store symbols and their attributes."
   ]
  },
  {
   "cell_type": "markdown",
   "metadata": {},
   "source": [
    "## Further Reading\n",
    "- [Hash Table on GeeksforGeeks](https://www.geeksforgeeks.org/hashing-data-structure/)\n",
    "- [Hash Tables in Python Documentation](https://docs.python.org/3/library/stdtypes.html#dict)"
   ]
  }
 ],
 "metadata": {
  "kernelspec": {
   "display_name": "conda_python3",
   "language": "python",
   "name": "conda_python3"
  },
  "language_info": {
   "codemirror_mode": {
    "name": "ipython",
    "version": 3
   },
   "file_extension": ".py",
   "mimetype": "text/x-python",
   "name": "python",
   "nbconvert_exporter": "python",
   "pygments_lexer": "ipython3",
   "version": "3.10.15"
  }
 },
 "nbformat": 4,
 "nbformat_minor": 4
}
