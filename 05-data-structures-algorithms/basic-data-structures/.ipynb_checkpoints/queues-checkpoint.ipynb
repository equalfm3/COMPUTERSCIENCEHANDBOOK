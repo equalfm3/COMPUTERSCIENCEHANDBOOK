{
 "cells": [
  {
   "cell_type": "markdown",
   "metadata": {},
   "source": [
    "# Queues"
   ]
  },
  {
   "cell_type": "markdown",
   "metadata": {},
   "source": [
    "## Overview\nA queue is a linear data structure that follows the First-In-First-Out (FIFO) principle. Elements are added to the back (enqueue) and removed from the front (dequeue)."
   ]
  },
  {
   "cell_type": "markdown",
   "metadata": {},
   "source": [
    "## Key Concepts\n- **Enqueue**: Adding an element to the back of the queue.\n- **Dequeue**: Removing an element from the front of the queue.\n- **Front**: The element at the front of the queue.\n- **Rear**: The element at the back of the queue.\n- **Overflow**: When the queue is full and cannot accept new elements.\n- **Underflow**: When the queue is empty and no elements can be removed."
   ]
  },
  {
   "cell_type": "markdown",
   "metadata": {},
   "source": [
    "## Implementation Details\nHere's a simple implementation of a queue using a list in Python:\n\n```python\nclass Queue:\n    def __init__(self):\n        self.queue = []\n\n    def is_empty(self):\n        return len(self.queue) == 0\n\n    def enqueue(self, item):\n        self.queue.append(item)\n\n    def dequeue(self):\n        if not self.is_empty():\n            return self.queue.pop(0)\n        else:\n            return None\n\n    def size(self):\n        return len(self.queue)\n\n    def front(self):\n        if not self.is_empty():\n            return self.queue[0]\n        else:\n            return None\n```\n\n## Best Practices\n- Use queues when you need to process elements in the order they arrive.\n- Ensure that the queue does not overflow or underflow by checking its state before operations.\n- Consider using a circular queue for more efficient memory usage."
   ]
  },
  {
   "cell_type": "markdown",
   "metadata": {},
   "source": [
    "## Common Pitfalls\n- **Performance Issues**: Using a list for a queue can lead to performance issues because removing elements from the front of a list is O(n).\n- **Memory Management**: Be cautious of memory usage, especially with large queues.\n- **Thread Safety**: Ensure thread safety if the queue is used in a multi-threaded environment."
   ]
  },
  {
   "cell_type": "markdown",
   "metadata": {},
   "source": [
    "## Advanced Topics\n- **Circular Queue**: A queue that uses a fixed-size array and wraps around when it reaches the end.\n- **Priority Queue**: A queue where elements have priorities and are dequeued based on their priority.\n- **Double-Ended Queue (Deque)**: A queue where elements can be added or removed from both ends."
   ]
  },
  {
   "cell_type": "markdown",
   "metadata": {},
   "source": [
    "## Interview Questions\n\n1. **Question**: How do you implement a queue using two stacks?\n   **Answer**: Use one stack to enqueue elements and another to dequeue elements.\n   ```python\n   class QueueUsingStacks:\n       def __init__(self):\n           self.stack1 = []\n           self.stack2 = []\n\n       def enqueue(self, item):\n           self.stack1.append(item)\n\n       def dequeue(self):\n           if not self.stack2:\n               while self.stack1:\n                   self.stack2.append(self.stack1.pop())\n           return self.stack2.pop()\n   ```\n\n2. **Question**: How do you reverse a queue?\n   **Answer**: Use a stack to reverse the elements.\n   ```python\n   def reverse_queue(queue):\n       stack = []\n       while not queue.is_empty():\n           stack.append(queue.dequeue())\n       while stack:\n           queue.enqueue(stack.pop())\n   ```\n\n3. **Question**: How do you implement a queue using a single stack?\n   **Answer**: This is not possible with a single stack because a stack follows LIFO, not FIFO."
   ]
  },
  {
   "cell_type": "markdown",
   "metadata": {},
   "source": [
    "## Real-world Applications\n- **Task Scheduling**: Queues are used in operating systems to manage task scheduling.\n- **Print Spooler**: Queues are used to manage print jobs in a printer.\n- **Breadth-First Search (BFS)**: Queues are used in graph algorithms like BFS to explore nodes level by level."
   ]
  },
  {
   "cell_type": "markdown",
   "metadata": {},
   "source": [
    "## Further Reading\n- [Queues on GeeksforGeeks](https://www.geeksforgeeks.org/queue-data-structure/)\n- [Queues in Python Documentation](https://docs.python.org/3/library/collections.html#collections.deque)"
   ]
  }
 ],
 "metadata": {
  "kernelspec": {
   "display_name": "Python 3",
   "language": "python",
   "name": "python3"
  },
  "language_info": {
   "codemirror_mode": {
    "name": "ipython",
    "version": 3
   },
   "file_extension": ".py",
   "mimetype": "text/x-python",
   "name": "python",
   "nbconvert_exporter": "python",
   "pygments_lexer": "ipython3",
   "version": "3.8.5"
  }
 },
 "nbformat": 4,
 "nbformat_minor": 2
}