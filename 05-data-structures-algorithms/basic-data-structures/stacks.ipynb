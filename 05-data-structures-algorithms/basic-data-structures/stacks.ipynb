{
 "cells": [
  {
   "cell_type": "markdown",
   "metadata": {},
   "source": [
    "# Stacks"
   ]
  },
  {
   "cell_type": "markdown",
   "metadata": {},
   "source": [
    "## Overview\n",
    "A stack is a linear data structure that follows the Last-In-First-Out (LIFO) principle. Elements are added to and removed from the top of the stack."
   ]
  },
  {
   "cell_type": "markdown",
   "metadata": {},
   "source": [
    "## Key Concepts\n",
    "- **Push**: Adding an element to the top of the stack.\n",
    "- **Pop**: Removing an element from the top of the stack.\n",
    "- **Peek/Top**: Viewing the element at the top of the stack without removing it.\n",
    "- **Overflow**: When the stack is full and cannot accept new elements.\n",
    "- **Underflow**: When the stack is empty and no elements can be removed."
   ]
  },
  {
   "cell_type": "markdown",
   "metadata": {},
   "source": [
    "## Implementation Details\n",
    "Here's a simple implementation of a stack using a list in Python:\n",
    "\n",
    "```python\n",
    "class Stack:\n",
    "    def __init__(self):\n",
    "        self.stack = []\n",
    "\n",
    "    def is_empty(self):\n",
    "        return len(self.stack) == 0\n",
    "\n",
    "    def push(self, item):\n",
    "        self.stack.append(item)\n",
    "\n",
    "    def pop(self):\n",
    "        if not self.is_empty():\n",
    "            return self.stack.pop()\n",
    "        else:\n",
    "            return None\n",
    "\n",
    "    def peek(self):\n",
    "        if not self.is_empty():\n",
    "            return self.stack[-1]\n",
    "        else:\n",
    "            return None\n",
    "\n",
    "    def size(self):\n",
    "        return len(self.stack)\n",
    "```\n",
    "\n",
    "## Best Practices\n",
    "- Use stacks when you need to process elements in reverse order.\n",
    "- Ensure that the stack does not overflow or underflow by checking its state before operations.\n",
    "- Consider using a fixed-size array for a stack to limit its growth."
   ]
  },
  {
   "cell_type": "markdown",
   "metadata": {},
   "source": [
    "## Common Pitfalls\n",
    "- **Performance Issues**: Using a list for a stack is generally efficient, but be mindful of memory usage.\n",
    "- **Memory Management**: Be cautious of memory usage, especially with large stacks.\n",
    "- **Thread Safety**: Ensure thread safety if the stack is used in a multi-threaded environment."
   ]
  },
  {
   "cell_type": "markdown",
   "metadata": {},
   "source": [
    "## Advanced Topics\n",
    "- **Expression Evaluation**: Using stacks to evaluate postfix (Reverse Polish Notation) expressions.\n",
    "- **Backtracking Algorithms**: Using stacks to implement backtracking in algorithms like solving mazes or the N-Queens problem.\n",
    "- **Function Call Stack**: Understanding how the call stack works in programming languages."
   ]
  },
  {
   "cell_type": "markdown",
   "metadata": {},
   "source": [
    "## Interview Questions\n",
    "\n",
    "1. **Question**: How do you reverse a string using a stack?\n",
    "   **Answer**: Push each character of the string onto a stack, then pop them off to form the reversed string.\n",
    "   ```python\n",
    "   def reverse_string(s):\n",
    "       stack = Stack()\n",
    "       for char in s:\n",
    "           stack.push(char)\n",
    "       reversed_str = ''\n",
    "       while not stack.is_empty():\n",
    "           reversed_str += stack.pop()\n",
    "       return reversed_str\n",
    "   ```\n",
    "\n",
    "2. **Question**: How do you check if parentheses in an expression are balanced?\n",
    "   **Answer**: Use a stack to track opening parentheses and match them with closing ones.\n",
    "   ```python\n",
    "   def are_parentheses_balanced(expression):\n",
    "       stack = Stack()\n",
    "       opening = '([{'\n",
    "       closing = ')]}'\n",
    "       for char in expression:\n",
    "           if char in opening:\n",
    "               stack.push(char)\n",
    "           elif char in closing:\n",
    "               if stack.is_empty():\n",
    "                   return False\n",
    "               if closing.index(char) != opening.index(stack.pop()):\n",
    "                   return False\n",
    "       return stack.is_empty()\n",
    "   ```\n",
    "\n",
    "3. **Question**: How do you convert an infix expression to postfix?\n",
    "   **Answer**: Use a stack to manage operators and operands.\n",
    "   ```python\n",
    "   def infix_to_postfix(expression):\n",
    "       stack = Stack()\n",
    "       precedence = {'+': 1, '-': 1, '*': 2, '/': 2}\n",
    "       postfix = []\n",
    "       for token in expression.split():\n",
    "           if token.isalnum():\n",
    "               postfix.append(token)\n",
    "           elif token in precedence:\n",
    "               while (not stack.is_empty() and stack.peek() in precedence and\n",
    "                      precedence[token] <= precedence[stack.peek()]):\n",
    "                   postfix.append(stack.pop())\n",
    "               stack.push(token)\n",
    "           elif token in '()':\n",
    "               if token == ')':\n",
    "                   while not stack.is_empty() and stack.peek() != '(':\n",
    "                       postfix.append(stack.pop())\n",
    "                   if not stack.is_empty() and stack.peek() != '(':\n",
    "                       return None  # Invalid expression\n",
    "                   else:\n",
    "                       stack.pop()\n",
    "       while not stack.is_empty():\n",
    "           postfix.append(stack.pop())\n",
    "       return ' '.join(postfix)\n",
    "   ```"
   ]
  },
  {
   "cell_type": "markdown",
   "metadata": {},
   "source": [
    "## Real-world Applications\n",
    "- **Undo Mechanism**: Stacks are used in text editors to implement an undo mechanism.\n",
    "- **Browser History**: Stacks are used to manage browser history (back and forward navigation).\n",
    "- **Function Calls**: Stacks are used in programming languages to manage function calls and returns."
   ]
  },
  {
   "cell_type": "markdown",
   "metadata": {},
   "source": [
    "## Further Reading\n",
    "- [Stacks on GeeksforGeeks](https://www.geeksforgeeks.org/stack-data-structure-introduction-program/)\n",
    "- [Stacks in Python Documentation](https://docs.python.org/3/library/collections.html#collections.deque)"
   ]
  }
 ],
 "metadata": {
  "kernelspec": {
   "display_name": "conda_python3",
   "language": "python",
   "name": "conda_python3"
  },
  "language_info": {
   "codemirror_mode": {
    "name": "ipython",
    "version": 3
   },
   "file_extension": ".py",
   "mimetype": "text/x-python",
   "name": "python",
   "nbconvert_exporter": "python",
   "pygments_lexer": "ipython3",
   "version": "3.10.15"
  }
 },
 "nbformat": 4,
 "nbformat_minor": 4
}
