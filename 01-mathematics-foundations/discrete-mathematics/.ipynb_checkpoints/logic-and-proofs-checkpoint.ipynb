{
 "cells": [
  {
   "cell_type": "markdown",
   "metadata": {},
   "source": [
    "# Logic and Proofs"
   ]
  },
  {
   "cell_type": "markdown",
   "metadata": {},
   "source": [
    "## Overview\n",
    "Logic and proofs form the foundation of mathematical reasoning and computer science. They provide the tools necessary for formal verification, algorithm correctness, and program analysis."
   ]
  },
  {
   "cell_type": "markdown",
   "metadata": {},
   "source": [
    "## Key Concepts\n",
    "\n",
    "### 1. Propositional Logic\n",
    "- Propositions (statements that are either true or false)\n",
    "- Logical operators (AND, OR, NOT, IMPLIES, IFF)\n",
    "- Truth tables\n",
    "\n",
    "### 2. Predicate Logic\n",
    "- Predicates\n",
    "- Quantifiers (∀ universal, ∃ existential)\n",
    "- Variables and domains\n",
    "\n",
    "### 3. Rules of Inference\n",
    "- Modus Ponens\n",
    "- Modus Tollens\n",
    "- Hypothetical Syllogism\n",
    "\n",
    "### 4. Methods of Proof\n",
    "- Direct proof\n",
    "- Proof by contradiction\n",
    "- Proof by contraposition\n",
    "- Mathematical induction"
   ]
  },
  {
   "cell_type": "markdown",
   "metadata": {},
   "source": [
    "## Theoretical Foundation\n",
    "\n",
    "### Truth Tables\n",
    "\n",
    "Basic logical operations:\n",
    "\n",
    "| P | Q | P AND Q | P OR Q | NOT P | P IMPLIES Q |\n",
    "|---|---|---------|---------|--------|-------------|\n",
    "| T | T |    T    |    T    |   F    |      T      |\n",
    "| T | F |    F    |    T    |   F    |      F      |\n",
    "| F | T |    F    |    T    |   T    |      T      |\n",
    "| F | F |    F    |    F    |   T    |      T      |\n",
    "\n",
    "### Logical Equivalences\n",
    "\n",
    "1. De Morgan's Laws:\n",
    "   - ¬(P ∧ Q) ≡ (¬P ∨ ¬Q)\n",
    "   - ¬(P ∨ Q) ≡ (¬P ∧ ¬Q)\n",
    "\n",
    "2. Implication Law:\n",
    "   - (P → Q) ≡ (¬P ∨ Q)"
   ]
  },
  {
   "cell_type": "markdown",
   "metadata": {},
   "source": [
    "## Implementation Examples\n",
    "\n",
    "Here's a Python implementation of basic logical operations:"
   ]
  },
  {
   "cell_type": "code",
   "execution_count": null,
   "metadata": {},
   "outputs": [],
   "source": [
    "def AND(p, q):\n",
    "    return p and q\n",
    "\n",
    "def OR(p, q):\n",
    "    return p or q\n",
    "\n",
    "def NOT(p):\n",
    "    return not p\n",
    "\n",
    "def IMPLIES(p, q):\n",
    "    return (not p) or q\n",
    "\n",
    "# Test De Morgan's Law\n",
    "def test_de_morgan(p, q):\n",
    "    left_side = NOT(AND(p, q))\n",
    "    right_side = OR(NOT(p), NOT(q))\n",
    "    return left_side == right_side\n",
    "\n",
    "# Test all possible combinations\n",
    "for p in [True, False]:\n",
    "    for q in [True, False]:\n",
    "        print(f\"P={p}, Q={q}, De Morgan's Law holds: {test_de_morgan(p, q)}\")"
   ]
  },
  {
   "cell_type": "markdown",
   "metadata": {},
   "source": [
    "## Proof Techniques\n",
    "\n",
    "### 1. Direct Proof\n",
    "Example: Prove that if n is even, then n² is even.\n",
    "\n",
    "```\n",
    "Proof:\n",
    "1. Let n be even\n",
    "2. Then n = 2k for some integer k\n",
    "3. n² = (2k)² = 4k² = 2(2k²)\n",
    "4. Since 2k² is an integer, n² is even\n",
    "```\n",
    "\n",
    "### 2. Proof by Contradiction\n",
    "Example: Prove that √2 is irrational.\n",
    "\n",
    "```\n",
    "Proof:\n",
    "1. Assume √2 is rational\n",
    "2. Then √2 = a/b where a,b are coprime integers\n",
    "3. 2 = a²/b²\n",
    "4. 2b² = a²\n",
    "5. a² is even, so a is even\n",
    "6. a = 2k for some k\n",
    "7. 2b² = 4k²\n",
    "8. b² = 2k²\n",
    "9. b is even\n",
    "10. Contradiction as a,b were supposed to be coprime\n",
    "```"
   ]
  },
  {
   "cell_type": "markdown",
   "metadata": {},
   "source": [
    "## Common Pitfalls\n",
    "\n",
    "1. Confusing implication with equivalence\n",
    "2. Incorrect application of quantifiers\n",
    "3. Invalid logical steps in proofs\n",
    "4. Circular reasoning\n",
    "5. False assumptions in proofs by contradiction"
   ]
  },
  {
   "cell_type": "markdown",
   "metadata": {},
   "source": [
    "## Interview Questions\n",
    "\n",
    "1. **Question**: What is the difference between implication and equivalence?\n",
    "   \n",
    "   **Answer**: Implication (P → Q) means if P is true, then Q must be true, but Q can be true when P is false. Equivalence (P ↔ Q) means P and Q must have the same truth value.\n",
    "\n",
    "2. **Question**: Explain De Morgan's Laws and why they are important.\n",
    "   \n",
    "   **Answer**: De Morgan's Laws state that ¬(P ∧ Q) ≡ (¬P ∨ ¬Q) and ¬(P ∨ Q) ≡ (¬P ∧ ¬Q). They are important because they allow us to simplify logical expressions and are fundamental in digital circuit design and Boolean algebra.\n",
    "\n",
    "3. **Question**: How would you prove that there are infinitely many prime numbers?\n",
    "   \n",
    "   **Answer**: Use proof by contradiction:\n",
    "   1. Assume there are finitely many primes: p₁, p₂, ..., pₙ\n",
    "   2. Consider N = (p₁ × p₂ × ... × pₙ) + 1\n",
    "   3. N is either prime or composite\n",
    "   4. If composite, it must have a prime factor from our list\n",
    "   5. But when divided by any prime from our list, it gives remainder 1\n",
    "   6. Contradiction!\n",
    "\n",
    "4. **Question**: What is the difference between universal and existential quantifiers?\n",
    "   \n",
    "   **Answer**: Universal quantifier (∀) means \"for all\" and claims something is true for every element in the domain. Existential quantifier (∃) means \"there exists\" and claims something is true for at least one element in the domain.\n",
    "\n",
    "5. **Question**: Explain the principle of mathematical induction.\n",
    "   \n",
    "   **Answer**: Mathematical induction has two steps:\n",
    "   1. Base case: Prove P(1) is true\n",
    "   2. Inductive step: Prove that if P(k) is true, then P(k+1) is true\n",
    "   This allows us to conclude P(n) is true for all positive integers n."
   ]
  },
  {
   "cell_type": "markdown",
   "metadata": {},
   "source": [
    "## Real-world Applications\n",
    "\n",
    "1. **Program Verification**\n",
    "   - Proving program correctness\n",
    "   - Verifying security properties\n",
    "\n",
    "2. **Circuit Design**\n",
    "   - Boolean algebra in digital circuits\n",
    "   - Logic gate optimization\n",
    "\n",
    "3. **Database Queries**\n",
    "   - Logical operators in SQL\n",
    "   - Query optimization\n",
    "\n",
    "4. **Artificial Intelligence**\n",
    "   - Automated theorem proving\n",
    "   - Expert systems\n",
    "   - Logic programming"
   ]
  },
  {
   "cell_type": "markdown",
   "metadata": {},
   "source": [
    "## Further Reading\n",
    "\n",
    "1. [\"Mathematical Logic for Computer Science\" by M. Ben-Ari](../resources/logic-proofs-1.pdf)\n",
    "2. [\"How to Prove It\" by Daniel J. Velleman](../resources/logic-proofs-2.pdf)\n",
    "3. [Stanford Encyclopedia of Philosophy - Logic](https://plato.stanford.edu/entries/logic-classical/)\n",
    "4. [MIT OpenCourseWare - Mathematics for Computer Science](https://ocw.mit.edu/courses/6-042j-mathematics-for-computer-science-fall-2010/)"
   ]
  }
 ],
 "metadata": {
  "kernelspec": {
   "display_name": "conda_python3",
   "language": "python",
   "name": "conda_python3"
  },
  "language_info": {
   "codemirror_mode": {
    "name": "ipython",
    "version": 3
   },
   "file_extension": ".py",
   "mimetype": "text/x-python",
   "name": "python",
   "nbconvert_exporter": "python",
   "pygments_lexer": "ipython3",
   "version": "3.10.15"
  }
 },
 "nbformat": 4,
 "nbformat_minor": 4
}
